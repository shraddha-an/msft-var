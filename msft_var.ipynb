# Importing libraries
import pandas as pd, numpy as np
